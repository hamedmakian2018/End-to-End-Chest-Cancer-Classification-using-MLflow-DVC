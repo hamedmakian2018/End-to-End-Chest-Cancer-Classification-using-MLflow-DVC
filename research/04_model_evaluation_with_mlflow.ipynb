{
 "cells": [
  {
   "cell_type": "code",
   "execution_count": 1,
   "id": "65a076d7",
   "metadata": {},
   "outputs": [
    {
     "data": {
      "text/plain": [
       "'c:\\\\Learning\\\\End-to-End-Chest-Cancer-Classification-using-MLflow-DVC\\\\research'"
      ]
     },
     "execution_count": 1,
     "metadata": {},
     "output_type": "execute_result"
    }
   ],
   "source": [
    "import os \n",
    "%pwd\n"
   ]
  },
  {
   "cell_type": "code",
   "execution_count": 9,
   "id": "a447e186",
   "metadata": {},
   "outputs": [
    {
     "data": {
      "text/plain": [
       "'C:\\\\Learning\\\\End-to-End-Chest-Cancer-Classification-using-MLflow-DVC'"
      ]
     },
     "execution_count": 9,
     "metadata": {},
     "output_type": "execute_result"
    }
   ],
   "source": [
    "'''os.chdir(\"../\")'''\n",
    "%pwd"
   ]
  },
  {
   "cell_type": "code",
   "execution_count": 5,
   "id": "b780cb1a",
   "metadata": {},
   "outputs": [
    {
     "name": "stdout",
     "output_type": "stream",
     "text": [
      "Working directory set to: C:\\Learning\\End-to-End-Chest-Cancer-Classification-using-MLflow-DVC\n"
     ]
    },
    {
     "data": {
      "text/plain": [
       "'C:\\\\Learning\\\\End-to-End-Chest-Cancer-Classification-using-MLflow-DVC'"
      ]
     },
     "execution_count": 5,
     "metadata": {},
     "output_type": "execute_result"
    }
   ],
   "source": [
    "import os\n",
    "os.chdir(\"C:/Learning/End-to-End-Chest-Cancer-Classification-using-MLflow-DVC\")\n",
    "print(\"Working directory set to:\", os.getcwd())\n",
    "os.getcwd()"
   ]
  },
  {
   "cell_type": "markdown",
   "id": "b53caacb",
   "metadata": {},
   "source": [
    "You need to make a token in dasghub then\n",
    "in terminal write\n",
    "dagshub login --token your token"
   ]
  },
  {
   "cell_type": "markdown",
   "id": "d72c3ad7",
   "metadata": {},
   "source": [
    " dagshub login --token 66ba938aeda0c5830ddc93215c7f0f744fe89f66"
   ]
  },
  {
   "cell_type": "code",
   "execution_count": 10,
   "id": "a5c6396b",
   "metadata": {},
   "outputs": [],
   "source": [
    "import tensorflow as tf  \n",
    "model = tf.keras.models.load_model(\"artifacts/training/model.h5\")"
   ]
  },
  {
   "cell_type": "code",
   "execution_count": 14,
   "id": "dab2dab0",
   "metadata": {},
   "outputs": [
    {
     "data": {
      "text/html": [
       "<pre style=\"white-space:pre;overflow-x:auto;line-height:normal;font-family:Menlo,'DejaVu Sans Mono',consolas,'Courier New',monospace\">Initialized MLflow to track repo <span style=\"color: #008000; text-decoration-color: #008000\">\"hamedmakian2018/End-to-End-Chest-Cancer-Classification-using-MLflow-DVC\"</span>\n",
       "</pre>\n"
      ],
      "text/plain": [
       "Initialized MLflow to track repo \u001b[32m\"hamedmakian2018/End-to-End-Chest-Cancer-Classification-using-MLflow-DVC\"\u001b[0m\n"
      ]
     },
     "metadata": {},
     "output_type": "display_data"
    },
    {
     "data": {
      "text/html": [
       "<pre style=\"white-space:pre;overflow-x:auto;line-height:normal;font-family:Menlo,'DejaVu Sans Mono',consolas,'Courier New',monospace\">Repository hamedmakian2018/End-to-End-Chest-Cancer-Classification-using-MLflow-DVC initialized!\n",
       "</pre>\n"
      ],
      "text/plain": [
       "Repository hamedmakian2018/End-to-End-Chest-Cancer-Classification-using-MLflow-DVC initialized!\n"
      ]
     },
     "metadata": {},
     "output_type": "display_data"
    },
    {
     "name": "stderr",
     "output_type": "stream",
     "text": [
      "2025/05/05 23:28:25 WARNING mlflow.tensorflow: You are saving a TensorFlow Core model or Keras model without a signature. Inference with mlflow.pyfunc.spark_udf() will not work unless the model's pyfunc representation accepts pandas DataFrames as inference inputs.\n",
      "WARNING:absl:Found untraced functions such as _jit_compiled_convolution_op, _jit_compiled_convolution_op, _jit_compiled_convolution_op, _jit_compiled_convolution_op, _jit_compiled_convolution_op while saving (showing 5 of 14). These functions will not be directly callable after loading.\n"
     ]
    },
    {
     "name": "stdout",
     "output_type": "stream",
     "text": [
      "INFO:tensorflow:Assets written to: C:\\Users\\hamed\\AppData\\Local\\Temp\\tmp_fk_uni_\\model\\data\\model\\assets\n"
     ]
    },
    {
     "name": "stderr",
     "output_type": "stream",
     "text": [
      "INFO:tensorflow:Assets written to: C:\\Users\\hamed\\AppData\\Local\\Temp\\tmp_fk_uni_\\model\\data\\model\\assets\n"
     ]
    }
   ],
   "source": [
    "from dagshub import dagshub_logger\n",
    "import mlflow\n",
    "import dagshub\n",
    "\n",
    "# Initialize DagsHub connection (this uses the credentials saved from `dagshub login`)\n",
    "dagshub.init(repo_owner='hamedmakian2018', \n",
    "             repo_name='End-to-End-Chest-Cancer-Classification-using-MLflow-DVC', \n",
    "             mlflow=True)\n",
    "from mlflow.tracking import MlflowClient\n",
    "\n",
    "experiment_name = \"Chest-Cancer-Evaluation\"\n",
    "client = MlflowClient()\n",
    "\n",
    "# Check if experiment already exists\n",
    "experiment = client.get_experiment_by_name(experiment_name)\n",
    "\n",
    "# If not, create and set it; otherwise, just set it\n",
    "if experiment is None:\n",
    "    mlflow.set_experiment(experiment_name)\n",
    "else:\n",
    "    mlflow.set_experiment(experiment_name)  # This is still needed to use it in the run\n",
    "\n",
    "    \n",
    "# Start an MLflow run\n",
    "with mlflow.start_run():\n",
    "    mlflow.log_param(\"learning_rate\", 0.001)\n",
    "    mlflow.log_metric(\"accuracy\", 0.96)\n",
    "    #mlflow.keras.log_model(model, artifact_path=\"VGG16_model\")  # Logs with this name\n",
    "    mlflow.tensorflow.log_model(model, artifact_path=\"VGG16_model\")\n",
    "    \n"
   ]
  },
  {
   "cell_type": "code",
   "execution_count": 28,
   "id": "a8df9762",
   "metadata": {},
   "outputs": [
    {
     "data": {
      "text/plain": [
       "'\\n\\nfrom dagshub import dagshub_logger\\nimport mlflow\\nimport dagshub\\nimport tensorflow as tf\\n\\n# Your trained Keras model (make sure it\\'s already defined or loaded)\\nmodel = tf.keras.models.load_model(\"artifacts/training/model.h5\")\\n\\n# Initialize DagsHub + MLflow\\ndagshub.init(\\n    repo_owner=\\'hamedmakian2018\\', \\n    repo_name=\\'End-to-End-Chest-Cancer-Classification-using-MLflow-DVC\\', \\n    mlflow=True\\n)\\n\\n# Start logging\\nmlflow.set_experiment(\"Chest-Cancer-Eval\")\\n\\nwith mlflow.start_run():\\n    mlflow.log_param(\"learning_rate\", 0.001)\\n    mlflow.log_metric(\"accuracy\", 0.96)\\n    mlflow.keras.log_model(model, artifact_path=\"VGG16_model\")\\n'"
      ]
     },
     "execution_count": 28,
     "metadata": {},
     "output_type": "execute_result"
    }
   ],
   "source": [
    "'''\n",
    "\n",
    "from dagshub import dagshub_logger\n",
    "import mlflow\n",
    "import dagshub\n",
    "import tensorflow as tf\n",
    "\n",
    "# Your trained Keras model (make sure it's already defined or loaded)\n",
    "model = tf.keras.models.load_model(\"artifacts/training/model.h5\")\n",
    "\n",
    "# Initialize DagsHub + MLflow\n",
    "dagshub.init(\n",
    "    repo_owner='hamedmakian2018', \n",
    "    repo_name='End-to-End-Chest-Cancer-Classification-using-MLflow-DVC', \n",
    "    mlflow=True\n",
    ")\n",
    "\n",
    "# Start logging\n",
    "mlflow.set_experiment(\"Chest-Cancer-Eval\")\n",
    "\n",
    "with mlflow.start_run():\n",
    "    mlflow.log_param(\"learning_rate\", 0.001)\n",
    "    mlflow.log_metric(\"accuracy\", 0.96)\n",
    "    mlflow.keras.log_model(model, artifact_path=\"VGG16_model\")\n",
    "'''"
   ]
  },
  {
   "cell_type": "code",
   "execution_count": 15,
   "id": "6a1c8555",
   "metadata": {},
   "outputs": [],
   "source": [
    "\n",
    "from dataclasses import dataclass\n",
    "from pathlib import Path\n",
    "\n",
    "@dataclass(frozen=True)\n",
    "class EvaluationConfig:\n",
    "    path_of_model: Path\n",
    "    training_data: Path\n",
    "    all_params: dict\n",
    "    mlflow_uri: str\n",
    "    params_image_size: list\n",
    "    params_batch_size: int\n",
    "\n"
   ]
  },
  {
   "cell_type": "code",
   "execution_count": 16,
   "id": "62a7d114",
   "metadata": {},
   "outputs": [],
   "source": [
    "from cnnClassifier.constants import *\n",
    "from cnnClassifier.utils.common import read_yaml, create_directories, save_json\n",
    "\n",
    "class ConfigurationManager:\n",
    "    def __init__(\n",
    "        self, \n",
    "        config_filepath = CONFIG_FILE_PATH,\n",
    "        params_filepath = PARAMS_FILE_PATH):\n",
    "        self.config = read_yaml(config_filepath)\n",
    "        self.params = read_yaml(params_filepath)\n",
    "        create_directories([self.config.artifacts_root])\n",
    "\n",
    "    \n",
    "    def get_evaluation_config(self) -> EvaluationConfig:\n",
    "        eval_config = EvaluationConfig(\n",
    "            path_of_model=\"artifacts/training/model.h5\",\n",
    "            training_data=\"artifacts/data_ingestion/Chest-CT-Scan-data\",\n",
    "            mlflow_uri=\"End-to-End-Chest-Cancer-Classification-using-MLflow-DVC\",\n",
    "            all_params=self.params,\n",
    "            params_image_size=self.params.IMAGE_SIZE,\n",
    "            params_batch_size=self.params.BATCH_SIZE\n",
    "        )\n",
    "        return eval_config"
   ]
  },
  {
   "cell_type": "code",
   "execution_count": 17,
   "id": "7b8581de",
   "metadata": {},
   "outputs": [],
   "source": [
    "import tensorflow as tf\n",
    "from pathlib import Path\n",
    "import mlflow\n",
    "import mlflow.keras\n",
    "from urllib.parse import urlparse\n",
    "\n",
    "class Evaluation:\n",
    "    def __init__(self, config: EvaluationConfig):\n",
    "        self.config = config\n",
    "\n",
    "    \n",
    "    def _valid_generator(self):\n",
    "\n",
    "        datagenerator_kwargs = dict(\n",
    "            rescale = 1./255,\n",
    "            validation_split=0.30\n",
    "        )\n",
    "\n",
    "        dataflow_kwargs = dict(\n",
    "            target_size=self.config.params_image_size[:-1],\n",
    "            batch_size=self.config.params_batch_size,\n",
    "            interpolation=\"bilinear\"\n",
    "        )\n",
    "\n",
    "        valid_datagenerator = tf.keras.preprocessing.image.ImageDataGenerator(\n",
    "            **datagenerator_kwargs\n",
    "        )\n",
    "\n",
    "        self.valid_generator = valid_datagenerator.flow_from_directory(\n",
    "            directory=self.config.training_data,\n",
    "            subset=\"validation\",\n",
    "            shuffle=False,\n",
    "            **dataflow_kwargs\n",
    "        )\n",
    "\n",
    "\n",
    "    @staticmethod\n",
    "    def load_model(path: Path) -> tf.keras.Model:\n",
    "        return tf.keras.models.load_model(path)\n",
    "    \n",
    "\n",
    "    def evaluation(self):\n",
    "        self.model = self.load_model(self.config.path_of_model)\n",
    "        self._valid_generator()\n",
    "        self.score = model.evaluate(self.valid_generator)\n",
    "        self.save_score()\n",
    "\n",
    "    def save_score(self):\n",
    "        scores = {\"loss\": self.score[0], \"accuracy\": self.score[1]}\n",
    "        save_json(path=Path(\"scores.json\"), data=scores)\n",
    "\n",
    "    \n",
    "    def log_into_mlflow(self):\n",
    "        mlflow.set_registry_uri(self.config.mlflow_uri)\n",
    "        tracking_url_type_store = urlparse(mlflow.get_tracking_uri()).scheme\n",
    "        \n",
    "        with mlflow.start_run():\n",
    "            mlflow.log_params(self.config.all_params)\n",
    "            mlflow.log_metrics(\n",
    "                {\"loss\": self.score[0], \"accuracy\": self.score[1]}\n",
    "            )\n",
    "            # Model registry does not work with file store\n",
    "            if tracking_url_type_store != \"file\":\n",
    "\n",
    "                # Register the model\n",
    "                # There are other ways to use the Model Registry, which depends on the use case,\n",
    "                # please refer to the doc for more information:\n",
    "                # https://mlflow.org/docs/latest/model-registry.html#api-workflow\n",
    "                mlflow.keras.log_model(self.model, \"model\", registered_model_name=\"VGG16Model\")\n",
    "            else:\n",
    "                mlflow.keras.log_model(self.model, \"model\")"
   ]
  },
  {
   "cell_type": "code",
   "execution_count": 18,
   "id": "639625eb",
   "metadata": {},
   "outputs": [
    {
     "name": "stdout",
     "output_type": "stream",
     "text": [
      "Found 102 images belonging to 2 classes.\n",
      "7/7 [==============================] - 94s 13s/step - loss: 2.8359 - accuracy: 0.7255\n"
     ]
    },
    {
     "name": "stderr",
     "output_type": "stream",
     "text": [
      "2025/05/05 23:31:15 WARNING mlflow.tensorflow: You are saving a TensorFlow Core model or Keras model without a signature. Inference with mlflow.pyfunc.spark_udf() will not work unless the model's pyfunc representation accepts pandas DataFrames as inference inputs.\n",
      "WARNING:absl:Found untraced functions such as _jit_compiled_convolution_op, _jit_compiled_convolution_op, _jit_compiled_convolution_op, _jit_compiled_convolution_op, _jit_compiled_convolution_op while saving (showing 5 of 14). These functions will not be directly callable after loading.\n"
     ]
    },
    {
     "name": "stdout",
     "output_type": "stream",
     "text": [
      "INFO:tensorflow:Assets written to: C:\\Users\\hamed\\AppData\\Local\\Temp\\tmp0enonpw5\\model\\data\\model\\assets\n"
     ]
    },
    {
     "name": "stderr",
     "output_type": "stream",
     "text": [
      "INFO:tensorflow:Assets written to: C:\\Users\\hamed\\AppData\\Local\\Temp\\tmp0enonpw5\\model\\data\\model\\assets\n",
      "Registered model 'VGG16Model' already exists. Creating a new version of this model...\n",
      "2025/05/05 23:32:15 INFO mlflow.tracking._model_registry.client: Waiting up to 300 seconds for model version to finish creation.                     Model name: VGG16Model, version 5\n",
      "Created version '5' of model 'VGG16Model'.\n"
     ]
    }
   ],
   "source": [
    "try:\n",
    "    config = ConfigurationManager()\n",
    "    eval_config = config.get_evaluation_config()\n",
    "    evaluation = Evaluation(eval_config)\n",
    "    evaluation.evaluation()\n",
    "    evaluation.log_into_mlflow()\n",
    "\n",
    "except Exception as e:\n",
    "   raise e\n"
   ]
  },
  {
   "cell_type": "code",
   "execution_count": 19,
   "id": "0c85956a",
   "metadata": {},
   "outputs": [],
   "source": [
    "mlflow.set_tracking_uri(\"https://dagshub.com/hamedmakian2018/End-to-End-Chest-Cancer-Classification-using-MLflow-DVC.mlflow\")\n"
   ]
  },
  {
   "cell_type": "code",
   "execution_count": 20,
   "id": "b8c187ac",
   "metadata": {},
   "outputs": [
    {
     "name": "stderr",
     "output_type": "stream",
     "text": [
      "2025/05/06 00:19:15 INFO mlflow.tracking.fluent: Experiment with name 'Test-Connection' does not exist. Creating a new experiment.\n"
     ]
    }
   ],
   "source": [
    "import mlflow\n",
    "mlflow.set_tracking_uri(\"https://dagshub.com/hamedmakian2018/End-to-End-Chest-Cancer-Classification-using-MLflow-DVC.mlflow\")\n",
    "mlflow.set_experiment(\"Test-Connection\")\n",
    "\n",
    "with mlflow.start_run():\n",
    "    mlflow.log_param(\"test_param\", 1)\n",
    "    mlflow.log_metric(\"test_metric\", 0.99)\n"
   ]
  },
  {
   "cell_type": "code",
   "execution_count": 23,
   "id": "13f8b761",
   "metadata": {},
   "outputs": [
    {
     "name": "stdout",
     "output_type": "stream",
     "text": [
      "Name: Test-Connection, ID: 3\n",
      "Name: Chest-Cancer-Evaluation, ID: 2\n"
     ]
    }
   ],
   "source": [
    "from mlflow.tracking import MlflowClient\n",
    "\n",
    "client = MlflowClient()\n",
    "experiment_ids = [e.experiment_id for e in client.search_experiments()]\n",
    "for eid in experiment_ids:\n",
    "    exp = client.get_experiment(eid)\n",
    "    print(f\"Name: {exp.name}, ID: {exp.experiment_id}\")\n"
   ]
  },
  {
   "cell_type": "code",
   "execution_count": 24,
   "id": "702bf6ff",
   "metadata": {},
   "outputs": [
    {
     "name": "stdout",
     "output_type": "stream",
     "text": [
      "✅ Connection successful! Experiments found:\n",
      "- Chest-Cancer-Evaluation (ID: 2)\n"
     ]
    }
   ],
   "source": [
    "import mlflow\n",
    "from mlflow.tracking import MlflowClient\n",
    "\n",
    "# Set the DagsHub tracking URI\n",
    "mlflow.set_tracking_uri(\"https://dagshub.com/hamedmakian2018/End-to-End-Chest-Cancer-Classification-using-MLflow-DVC.mlflow\")\n",
    "\n",
    "# Create a client and try listing experiments\n",
    "client = MlflowClient()\n",
    "try:\n",
    "    experiments = client.search_experiments()\n",
    "    print(\"✅ Connection successful! Experiments found:\")\n",
    "    for exp in experiments:\n",
    "        print(f\"- {exp.name} (ID: {exp.experiment_id})\")\n",
    "except Exception as e:\n",
    "    print(\"❌ Connection failed:\", e)\n"
   ]
  },
  {
   "cell_type": "code",
   "execution_count": null,
   "id": "a9705f21",
   "metadata": {},
   "outputs": [],
   "source": []
  },
  {
   "cell_type": "code",
   "execution_count": null,
   "id": "2ae20b4c",
   "metadata": {},
   "outputs": [],
   "source": []
  }
 ],
 "metadata": {
  "kernelspec": {
   "display_name": "cancer",
   "language": "python",
   "name": "python3"
  },
  "language_info": {
   "codemirror_mode": {
    "name": "ipython",
    "version": 3
   },
   "file_extension": ".py",
   "mimetype": "text/x-python",
   "name": "python",
   "nbconvert_exporter": "python",
   "pygments_lexer": "ipython3",
   "version": "3.11.9"
  }
 },
 "nbformat": 4,
 "nbformat_minor": 5
}
